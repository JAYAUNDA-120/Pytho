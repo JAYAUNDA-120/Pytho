{
 "cells": [
  {
   "cell_type": "markdown",
   "metadata": {},
   "source": [
    "### File Encryption and Decryption "
   ]
  },
  {
   "cell_type": "markdown",
   "metadata": {},
   "source": [
    "### # Encryption is the process where sender has to encoded the code to secure purpose and it can be revealed at receiver .\n",
    "####  Decryption is the process of taking encoded or encrypted text and converting it back into text that you or the computer can read and understand.\n",
    "###  Types:\n",
    "####  Symetric  (private key):It uses a single key that will be shared among teh people who need to receive the message.\n",
    "#### Asymetric key(public key):Asymetirc encryption uses a pair of public key  and a private key to encrypt and decrypt message."
   ]
  },
  {
   "cell_type": "code",
   "execution_count": 1,
   "metadata": {},
   "outputs": [
    {
     "name": "stdout",
     "output_type": "stream",
     "text": [
      "entert a messageJAYA\n",
      "ffff"
     ]
    }
   ],
   "source": [
    "#Encrypted Messag\n",
    "msg=input(\"entert a message\")\n",
    "key_file='abcdefghijklmnopqrstuvwxyz'\n",
    "len(key_file)\n",
    "key=6\n",
    "for char in msg:\n",
    "    pos=key_file.find(char)\n",
    "    new_pos=(pos+key)%26\n",
    "    print(key_file[new_pos],end=\"\")"
   ]
  },
  {
   "cell_type": "code",
   "execution_count": 2,
   "metadata": {},
   "outputs": [
    {
     "name": "stdout",
     "output_type": "stream",
     "text": [
      "enter a messageJAYA\n",
      "7.F.\n"
     ]
    }
   ],
   "source": [
    "msg=input(\"enter a message\")\n",
    "key=6\n",
    "enc=\"\"\n",
    "for char in msg:\n",
    "    k=ord(char)+key\n",
    "    if k>=97 and k<122:\n",
    "        enc+=chr(k)\n",
    "    else:\n",
    "        h=97+(k-122)\n",
    "        enc+=chr(h)\n",
    "print(enc)"
   ]
  },
  {
   "cell_type": "code",
   "execution_count": 3,
   "metadata": {},
   "outputs": [],
   "source": [
    "keyfile=\"key.txt\"\n",
    "def createFile(keyfile):\n",
    "    with open(\"key.txt\",\"w\")as f:\n",
    "        for i in range(10):\n",
    "            if i<6:\n",
    "                f.write(str(i)+\" \"+str(i+4)+\"\\n\")\n",
    "            else:\n",
    "                f.write(str(i)+\" \"+str(i-6)+\"\\n\")\n",
    "createFile(\"keyfile\")"
   ]
  },
  {
   "cell_type": "markdown",
   "metadata": {},
   "source": [
    "### Tasks\n",
    "Write a function to encrypt your marks file takes marks by using write\n",
    "Write a function to decrypt encrypted marks file"
   ]
  },
  {
   "cell_type": "code",
   "execution_count": 4,
   "metadata": {},
   "outputs": [],
   "source": [
    "keyfile=\"key.txt\"\n",
    "\n",
    "def Dictionary_Form(keyfile):\n",
    "    dict1={}\n",
    "    with open(\"key.txt\",\"r\")as k:\n",
    "        for line in k:\n",
    "            h=line.split()\n",
    "            dict1[h[0]]=h[1]\n",
    "        return dict1\n",
    "def Encrypion_data(datafile,keyfile):\n",
    "    key=Dictionary_Form(keyfile)\n",
    "    with open(datafile,\"r\")as d:\n",
    "        h=d.read().split(\"\\n\")\n",
    "        \n",
    "    with open(\"encrypted_marks1.txt\",\"w\")as en:\n",
    "        for marks in h:\n",
    "            encr=\"\"\n",
    "            for i in marks:\n",
    "                encr+=key[i]\n",
    "            en.write(encr+\"\\n\")\n",
    "datafile=\"marks1.txt\"\n",
    "Encrypion_data(datafile,keyfile)\n",
    "\n",
    "\n",
    "            "
   ]
  },
  {
   "cell_type": "code",
   "execution_count": 5,
   "metadata": {},
   "outputs": [],
   "source": [
    "keyfile=\"key.txt\"\n",
    "def Decrypted_marks(encrypted_file,keyfile):\n",
    "    key=Dictionary_Form(keyfile)\n",
    "    new_dict={}\n",
    "    for key ,value in key.items():\n",
    "        new_dict[value]=key\n",
    "    with open(encrypted_file,\"r\")as enc:\n",
    "        y=enc.read().split(\"\\n\")\n",
    "    \n",
    "    with open(\"decrypted_marks.txt\",\"w\")as dec:\n",
    "        for t in y:\n",
    "            u=\"\"\n",
    "            for j in t:\n",
    "                u+=new_dict[j]\n",
    "            dec.write(u+\"\\n\")\n",
    "    return\n",
    "encrypted_file='encrypted_marks.txt'\n",
    "Decrypted_marks(encrypted_file,keyfile)\n",
    "\n"
   ]
  },
  {
   "cell_type": "code",
   "execution_count": 9,
   "metadata": {},
   "outputs": [
    {
     "name": "stdout",
     "output_type": "stream",
     "text": [
      "enter a messagejaya\n",
      "\n"
     ]
    }
   ],
   "source": [
    "msg=input(\"enter a message\")\n",
    "new_msg=\"\"\n",
    "for char in msg:\n",
    "    if ord(char)>=65 and ord(char)<=90:\n",
    "        k=ord(char)+key\n",
    "        if k>90:\n",
    "            h=65+(ord(char)-90)\n",
    "            new_msg+=chr(k)\n",
    "        elif ord(char)>=97 and ord(char)<=122:\n",
    "            p=ord(char)+key\n",
    "            if p>122:\n",
    "                b=97+p-122\n",
    "                new_msg+=chr(b)\n",
    "            else:\n",
    "                new_msg+=chr(p)\n",
    "print(new_msg)"
   ]
  },
  {
   "cell_type": "code",
   "execution_count": null,
   "metadata": {},
   "outputs": [],
   "source": []
  }
 ],
 "metadata": {
  "kernelspec": {
   "display_name": "Python 3",
   "language": "python",
   "name": "python3"
  },
  "language_info": {
   "codemirror_mode": {
    "name": "ipython",
    "version": 3
   },
   "file_extension": ".py",
   "mimetype": "text/x-python",
   "name": "python",
   "nbconvert_exporter": "python",
   "pygments_lexer": "ipython3",
   "version": "3.7.3"
  }
 },
 "nbformat": 4,
 "nbformat_minor": 2
}
