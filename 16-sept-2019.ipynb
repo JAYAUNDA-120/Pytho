{
 "cells": [
  {
   "cell_type": "markdown",
   "metadata": {},
   "source": [
    "### Regular Expressions\n",
    "*synatax :import re patterrs generations\n",
    "### Methods in Regular Expression\n",
    "## -re.findall()\n",
    "## -re.search()\n",
    "## -re.match()\n",
    "## -re.sub()\n",
    "## -re.finditer()"
   ]
  },
  {
   "cell_type": "markdown",
   "metadata": {},
   "source": [
    "set \"[]\"--> We can insert sett of group of chars.numbers.Special chars\n",
    "-Caret\"^f\"--> It can find wich word have first letter ass f andd detect\n",
    "-Dooler\"$\"\"-->Ends with letter it can recongnize $\n",
    "-star \"*\"-->it can detect how many times that letter occurs [*9]0 or more occurance\n",
    "-\"+\" -->one or more occurancs\n",
    "-{} it can detect given rangee only andd it starts  again its process until it gets range of letters\n",
    "\"|\"--> A again start its process\n",
    "\"...\" Dots gives no of words in the given word .\n",
    "\"\"''-->Special sequence\n",
    "\n",
    "\n",
    "\n"
   ]
  },
  {
   "cell_type": "markdown",
   "metadata": {},
   "source": [
    "###  Special sequence\"\\\"\n",
    "-\\Athe it cant dectect the in the given passage\n",
    "-\\b  the it can detect the in the passage in any where\n",
    "-\\d -->only digit can detect\n",
    "-\\D -->non-digit and spaces it can detect.\n",
    "-\\s-->space detection\n",
    "-\\S-->excluding space detection it can detect any letter and digit\n",
    "-\\w-->alphanumeric excluding sapce\n",
    "-\\W -->non alphanumeric (ex :@!$%^)\n",
    "\n"
   ]
  },
  {
   "cell_type": "code",
   "execution_count": 1,
   "metadata": {},
   "outputs": [
    {
     "name": "stdout",
     "output_type": "stream",
     "text": [
      "['h', 'e', 'h', 'g', 'a', 'i', 'g', 'l', 'a', 'g', 'g', 'e']\n"
     ]
    }
   ],
   "source": [
    "#write a program to find the characters between \"a\" and \"l\"\n",
    "import re\n",
    "\n",
    "string=\"the python programming languge\"\n",
    "str2=re.findall(\"[a-l]\",string)\n",
    "print(str2)\n"
   ]
  },
  {
   "cell_type": "code",
   "execution_count": 2,
   "metadata": {},
   "outputs": [
    {
     "name": "stdout",
     "output_type": "stream",
     "text": [
      "['t', 'h', 'e', ' ', 'c', 'o', 's', 't', ' ', 'o', 'f', ' ', ' ', 'a', 'p', 'p', 'l', 'e', 's', ' ', 'c', 'o', 's', 't', ' ', 'i', 's', ' ', 'r', 's']\n"
     ]
    }
   ],
   "source": [
    "string=\"the cost of 10 apples cost is 100rs\"\n",
    "str2=re.findall(\"\\D\",string)\n",
    "print(str2)"
   ]
  },
  {
   "cell_type": "code",
   "execution_count": 3,
   "metadata": {},
   "outputs": [
    {
     "name": "stdout",
     "output_type": "stream",
     "text": [
      "['1', '0', '1', '0', '0']\n"
     ]
    }
   ],
   "source": [
    "string=\"the cost of 10 apples cost is 100rs\"\n",
    "str2=re.findall(\"\\d\",string)\n",
    "print(str2)"
   ]
  },
  {
   "cell_type": "code",
   "execution_count": 4,
   "metadata": {},
   "outputs": [
    {
     "name": "stdout",
     "output_type": "stream",
     "text": [
      "[' ', ' ', ' ', ' ', ' ', ' ', ' ']\n"
     ]
    }
   ],
   "source": [
    "string=\"the cost of 10 apples cost is 100rs\"\n",
    "str2=re.findall(\"\\s\",string)\n",
    "print(str2)"
   ]
  },
  {
   "cell_type": "code",
   "execution_count": 5,
   "metadata": {},
   "outputs": [
    {
     "name": "stdout",
     "output_type": "stream",
     "text": [
      "['t', 'h', 'e', 'c', 'o', 's', 't', 'o', 'f', '1', '0', 'a', 'p', 'p', 'l', 'e', 's', 'c', 'o', 's', 't', 'i', 's', '1', '0', '0', 'r', 's']\n"
     ]
    }
   ],
   "source": [
    "string=\"the cost of 10 apples cost is 100rs\"\n",
    "str2=re.findall(\"\\S\",string)\n",
    "print(str2)"
   ]
  },
  {
   "cell_type": "code",
   "execution_count": 6,
   "metadata": {},
   "outputs": [
    {
     "name": "stdout",
     "output_type": "stream",
     "text": [
      "['t', 'h', 'e', 'c', 'o', 's', 't', 'o', 'f', '1', '0', 'a', 'p', 'p', 'l', 'e', 's', 'c', 'o', 's', 't', 'i', 's', '1', '0', '0', 'r', 's']\n"
     ]
    }
   ],
   "source": [
    "string=\"the cost of 10 apples cost is 100rs\"\n",
    "str2=re.findall(\"\\w\",string)\n",
    "print(str2)"
   ]
  },
  {
   "cell_type": "code",
   "execution_count": 7,
   "metadata": {},
   "outputs": [
    {
     "name": "stdout",
     "output_type": "stream",
     "text": [
      "[' ', ' ', ' ', ' ', ' ', ' ', ' ']\n"
     ]
    }
   ],
   "source": [
    "string=\"the cost of 10 apples cost is 100rs\"\n",
    "str2=re.findall(\"\\W\",string)\n",
    "print(str2)"
   ]
  },
  {
   "cell_type": "code",
   "execution_count": 8,
   "metadata": {},
   "outputs": [
    {
     "name": "stdout",
     "output_type": "stream",
     "text": [
      "['progr']\n"
     ]
    }
   ],
   "source": [
    "# Take a string contains more than 8 characters ,print 5 characters in the string\n",
    "string=\"programming\"\n",
    "str2=re.findall(string[0:5],string)\n",
    "print(str2)"
   ]
  },
  {
   "cell_type": "code",
   "execution_count": 9,
   "metadata": {},
   "outputs": [
    {
     "name": "stdout",
     "output_type": "stream",
     "text": [
      "['progr']\n"
     ]
    }
   ],
   "source": [
    "string=\"programming\"\n",
    "str2=re.findall(\"pr...\",string)\n",
    "print(str2)"
   ]
  },
  {
   "cell_type": "code",
   "execution_count": 10,
   "metadata": {},
   "outputs": [
    {
     "name": "stdout",
     "output_type": "stream",
     "text": [
      "12345566\n"
     ]
    },
    {
     "data": {
      "text/plain": [
       "False"
      ]
     },
     "execution_count": 10,
     "metadata": {},
     "output_type": "execute_result"
    }
   ],
   "source": [
    "# phone number validator using re.match ()method\n",
    "import re\n",
    "def phoneNum(number):\n",
    "    p='[6-9][0-9]{9}|[+][9][1][6-9][0-9]{9}'\n",
    "    if re.match(p,str(number)):\n",
    "        return True\n",
    "    else:\n",
    "        return False\n",
    "number=int(input())\n",
    "phoneNum(number)\n",
    "    "
   ]
  },
  {
   "cell_type": "code",
   "execution_count": 11,
   "metadata": {},
   "outputs": [
    {
     "ename": "IndentationError",
     "evalue": "unexpected indent (<ipython-input-11-d8d31284773d>, line 8)",
     "output_type": "error",
     "traceback": [
      "\u001b[1;36m  File \u001b[1;32m\"<ipython-input-11-d8d31284773d>\"\u001b[1;36m, line \u001b[1;32m8\u001b[0m\n\u001b[1;33m    return False\u001b[0m\n\u001b[1;37m    ^\u001b[0m\n\u001b[1;31mIndentationError\u001b[0m\u001b[1;31m:\u001b[0m unexpected indent\n"
     ]
    }
   ],
   "source": [
    "#re.match()\n",
    "import re\n",
    "def phoneNum(number):\n",
    "    p='^[+][9][1][6-9][0-9]{9}$'\n",
    "    if re.match(p,str(number)):\n",
    "        return True\n",
    "    else:__\n",
    "        return False\n",
    "number=int(input())\n",
    "phoneNum(number)\n",
    "    "
   ]
  },
  {
   "cell_type": "code",
   "execution_count": null,
   "metadata": {},
   "outputs": [],
   "source": [
    "# re.sub() method\n",
    "# syntax:re.sub(\"replace value remove\",\"added value\",variable)\n",
    "\n",
    "# write a program to replace white spaces with colo\";\"\n",
    "import re\n",
    "string=\"   hello regukt what are u doing\"\n",
    "string1=re.sub('\\s','',string)\n",
    "print(string1)\n",
    "\n"
   ]
  },
  {
   "cell_type": "markdown",
   "metadata": {},
   "source": [
    "### Write  program to check eamil valiadtor"
   ]
  },
  {
   "cell_type": "code",
   "execution_count": 13,
   "metadata": {},
   "outputs": [
    {
     "name": "stdout",
     "output_type": "stream",
     "text": [
      "jayalakshmiunda345@gamil.com\n"
     ]
    },
    {
     "data": {
      "text/plain": [
       "True"
      ]
     },
     "execution_count": 13,
     "metadata": {},
     "output_type": "execute_result"
    }
   ],
   "source": [
    "import re\n",
    "def email(n):\n",
    "    k='^[a-z][0-9a-z.]{5,20}[@][0-9a-z]{3,8}.[a-z]{2,4}|[a-z.a-z]{2,4}$'\n",
    "    if re.match(k,str(n)):\n",
    "        return True\n",
    "    else:\n",
    "        return False\n",
    "n=input()\n",
    "email(n)"
   ]
  },
  {
   "cell_type": "code",
   "execution_count": null,
   "metadata": {},
   "outputs": [],
   "source": []
  }
 ],
 "metadata": {
  "kernelspec": {
   "display_name": "Python 3",
   "language": "python",
   "name": "python3"
  },
  "language_info": {
   "codemirror_mode": {
    "name": "ipython",
    "version": 3
   },
   "file_extension": ".py",
   "mimetype": "text/x-python",
   "name": "python",
   "nbconvert_exporter": "python",
   "pygments_lexer": "ipython3",
   "version": "3.7.3"
  }
 },
 "nbformat": 4,
 "nbformat_minor": 2
}
