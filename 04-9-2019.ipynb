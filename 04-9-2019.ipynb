{
 "cells": [
  {
   "cell_type": "markdown",
   "metadata": {},
   "source": [
    "# Markdown Basics\n",
    "***IB***\n",
    "*Text\n",
    "   *syblist 1\n",
    "   *sublist 2\n",
    "   \n",
    "   \n",
    "   \n",
    ">1.ordered List 1\n",
    ">2.ordered list 2\n",
    "\n",
    "\n",
    "\n",
    "\n",
    "-[]option 1\n",
    "-[]option 1\n",
    "-[x]option 3\n",
    "\\*escape\n",
    "[Link](https://gmail.com)   \n",
    "\n",
    "I have 10 items [Google][1] than from[Yahoo][2].\n",
    "\n",
    "[1]:http://google.com/  \"Google\"\n",
    "\n",
    "[2]:http://search.yahoo.com/ \"Yahoosearch\"\n",
    "\n",
    "<https://google.com>\n",
    "\n",
    "[jupyter Logo](logo.png)\n",
    "\n",
    "<img src=\"logo.png\" height=\"5px\" weight=\"5px\" style=\"float :left\">"
   ]
  },
  {
   "cell_type": "markdown",
   "metadata": {},
   "source": []
  }
 ],
 "metadata": {
  "kernelspec": {
   "display_name": "Python 3",
   "language": "python",
   "name": "python3"
  },
  "language_info": {
   "codemirror_mode": {
    "name": "ipython",
    "version": 3
   },
   "file_extension": ".py",
   "mimetype": "text/x-python",
   "name": "python",
   "nbconvert_exporter": "python",
   "pygments_lexer": "ipython3",
   "version": "3.7.3"
  }
 },
 "nbformat": 4,
 "nbformat_minor": 2
}
